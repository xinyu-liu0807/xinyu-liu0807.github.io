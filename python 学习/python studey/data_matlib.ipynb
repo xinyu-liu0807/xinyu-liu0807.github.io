{
 "cells": [
  {
   "cell_type": "code",
   "execution_count": 1,
   "id": "14021a98",
   "metadata": {},
   "outputs": [],
   "source": [
    "import matplotlib.pyplot as plt"
   ]
  },
  {
   "cell_type": "code",
   "execution_count": 2,
   "id": "0691ca37",
   "metadata": {},
   "outputs": [],
   "source": [
    "import numpy as np"
   ]
  },
  {
   "cell_type": "code",
   "execution_count": 3,
   "id": "18ad9115",
   "metadata": {},
   "outputs": [],
   "source": [
    "data = np.load('C:/Users/lxy0807/Desktop/Python数据分析与应用人邮版（新）/data/国民经济核算季度数据.npz')"
   ]
  },
  {
   "cell_type": "code",
   "execution_count": 4,
   "id": "677bb96c",
   "metadata": {},
   "outputs": [
    {
     "data": {
      "text/plain": [
       "['columns', 'values']"
      ]
     },
     "execution_count": 4,
     "metadata": {},
     "output_type": "execute_result"
    }
   ],
   "source": [
    "data.files"
   ]
  },
  {
   "cell_type": "code",
   "execution_count": 12,
   "id": "dae5cb90",
   "metadata": {},
   "outputs": [
    {
     "data": {
      "text/plain": [
       "array(['序号', '时间', '国内生产总值_当季值(亿元)', '第一产业增加值_当季值(亿元)', '第二产业增加值_当季值(亿元)',\n",
       "       '第三产业增加值_当季值(亿元)', '农林牧渔业增加值_当季值(亿元)', '工业增加值_当季值(亿元)',\n",
       "       '建筑业增加值_当季值(亿元)', '批发和零售业增加值_当季值(亿元)', '交通运输、仓储和邮政业增加值_当季值(亿元)',\n",
       "       '住宿和餐饮业增加值_当季值(亿元)', '金融业增加值_当季值(亿元)', '房地产业增加值_当季值(亿元)',\n",
       "       '其他行业增加值_当季值(亿元)'], dtype=object)"
      ]
     },
     "execution_count": 12,
     "metadata": {},
     "output_type": "execute_result"
    }
   ],
   "source": [
    "data.allow_pickle=True\n",
    "\n",
    "data['columns']"
   ]
  },
  {
   "cell_type": "code",
   "execution_count": null,
   "id": "7ae71c14",
   "metadata": {},
   "outputs": [],
   "source": [
    "plt.scatter(range(69), data['values'][:, 2])"
   ]
  },
  {
   "cell_type": "code",
   "execution_count": null,
   "id": "0bfbd7cb",
   "metadata": {},
   "outputs": [],
   "source": [
    "plt.show()"
   ]
  },
  {
   "cell_type": "code",
   "execution_count": null,
   "id": "1edacd6e",
   "metadata": {},
   "outputs": [],
   "source": [
    "plt.plot(range(69), data['values'][:, 2])"
   ]
  },
  {
   "cell_type": "code",
   "execution_count": null,
   "id": "3de20897",
   "metadata": {},
   "outputs": [],
   "source": []
  }
 ],
 "metadata": {
  "kernelspec": {
   "display_name": "Python 3",
   "language": "python",
   "name": "python3"
  },
  "language_info": {
   "codemirror_mode": {
    "name": "ipython",
    "version": 3
   },
   "file_extension": ".py",
   "mimetype": "text/x-python",
   "name": "python",
   "nbconvert_exporter": "python",
   "pygments_lexer": "ipython3",
   "version": "3.8.8"
  }
 },
 "nbformat": 4,
 "nbformat_minor": 5
}
